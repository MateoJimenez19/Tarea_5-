{
 "metadata": {
  "name": "Tarea5_2"
 },
 "nbformat": 3,
 "nbformat_minor": 0,
 "worksheets": [
  {
   "cells": [
    {
     "cell_type": "code",
     "collapsed": false,
     "input": [
      "\"\"\"\n",
      "    Definir variables\n",
      "    Definir el paso de avance\n",
      "\n",
      "\"\"\""
     ],
     "language": "python",
     "metadata": {},
     "outputs": [
      {
       "output_type": "pyout",
       "prompt_number": 1,
       "text": [
        "'\\n    Definir variables\\n    Definir el paso de avance\\n\\n'"
       ]
      }
     ],
     "prompt_number": 1
    },
    {
     "cell_type": "code",
     "collapsed": false,
     "input": [
      "\"\"\"\n",
      "    Cargar archivo\n",
      "    Leer el archivo y guardarlo en una matriz\n",
      "\"\"\"\n"
     ],
     "language": "python",
     "metadata": {},
     "outputs": [
      {
       "output_type": "pyout",
       "prompt_number": 2,
       "text": [
        "'\\n    Cargar archivo\\n    Leer el archivo y guardarlo en una matriz\\n'"
       ]
      }
     ],
     "prompt_number": 2
    },
    {
     "cell_type": "code",
     "collapsed": false,
     "input": [
      "\"\"\"\n",
      "    Parte a:\n",
      "         generar una matriz para cada metodo de interpolacion\n",
      "            funciones:\n",
      "                 interpolacion_constante(matriz inicial, paso) /output matriz de manchas\n",
      "                 interpolacion_lineal(matriz inicial, paso) /output matriz de manchas\n",
      "                 interpolacion_cubica(matriz inicial, paso) /output matriz de manchas\n",
      "\n",
      "\"\"\"\n"
     ],
     "language": "python",
     "metadata": {},
     "outputs": []
    },
    {
     "cell_type": "code",
     "collapsed": false,
     "input": [
      "\"\"\"\n",
      "    Parte b:\n",
      "        generar la transformada de fourier para cada interpolacion\n",
      "        calcular el vector de potencias para cada interpolacion\n",
      "        calcular el vector de frecuencias para cada interpolacion\n",
      "        graficar potencia contra frecuencia para cada interpolacion\n",
      "        calcular chi^2 tomando la interpolacion cubica como verdadera para comprar las interpolaciones\n",
      "\"\"\""
     ],
     "language": "python",
     "metadata": {},
     "outputs": []
    },
    {
     "cell_type": "code",
     "collapsed": false,
     "input": [
      "\"\"\"\n",
      "    Parte c:\n",
      "        calcular frecuencia maxima y frecuencia minima f=1/T\n",
      "        recorrer el vector de frecuencias verificando que la frecuencia este dentro del velor minimo y maximo; s    i no, igualar a cero el Xk del indice correspondiente\n",
      "        calcular la transformada de fourier inversa\n",
      "        graficar la se\u00f1al calculada en el punto anterior y la se\u00f1al original\n",
      "\"\"\""
     ],
     "language": "python",
     "metadata": {},
     "outputs": []
    },
    {
     "cell_type": "code",
     "collapsed": false,
     "input": [
      "\"\"\"\n",
      "    Parte D:\n",
      "        Buscar dos maximos locales consecutivos, tomar los ts correspondientes a esos maximos. el periodo sera l    a resta de t1-t0\n"
     ],
     "language": "python",
     "metadata": {},
     "outputs": []
    }
   ],
   "metadata": {}
  }
 ]
}