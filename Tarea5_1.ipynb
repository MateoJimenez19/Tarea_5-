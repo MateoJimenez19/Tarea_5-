{
 "metadata": {
  "name": "Tarea5_1"
 },
 "nbformat": 3,
 "nbformat_minor": 0,
 "worksheets": [
  {
   "cells": [
    {
     "cell_type": "code",
     "collapsed": false,
     "input": [
      "\"\"\"\n",
      "    Definir Variables\n",
      "\"\"\""
     ],
     "language": "python",
     "metadata": {},
     "outputs": []
    },
    {
     "cell_type": "code",
     "collapsed": false,
     "input": [
      "\"\"\"\n",
      "    Cargar archivo\n",
      "    Leer el archivo y guardarlo en una matriz\n",
      "\"\"\""
     ],
     "language": "python",
     "metadata": {},
     "outputs": []
    },
    {
     "cell_type": "code",
     "collapsed": false,
     "input": [
      "\"\"\"\n",
      "    Parte a:\n",
      "        Para cada columna de la matriz\n",
      "            generar transformada de fourier\n",
      "            calcular y generar el vector de potencias\n",
      "            generar el vector de frecuencias\n",
      "            graficar potencias contra frecuencias\n",
      "\"\"\""
     ],
     "language": "python",
     "metadata": {},
     "outputs": []
    },
    {
     "cell_type": "code",
     "collapsed": false,
     "input": [
      "\"\"\"\n",
      "    Parte b:\n",
      "        generar una matriz de 10x2 donde la primera columna es la potencia \n",
      "        y la segunda es la frecuencia de las 10 mayores\n",
      "        generar una matriz de 10x2 donde la primera columna es la potencia y la segunda es la frecuencia de las 10 mayores\n",
      "        calcular el chi^2 de la se\u00f1al original contra la se\u00f1al reconstruida con los 10 valores mayores\n",
      "        graficar la se\u00f1al original y la se\u00f1al reconstruida con los 10 mayores valores\n"
     ],
     "language": "python",
     "metadata": {},
     "outputs": []
    }
   ],
   "metadata": {}
  }
 ]
}